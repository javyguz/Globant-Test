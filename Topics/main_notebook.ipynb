{
 "cells": [
  {
   "cell_type": "markdown",
   "id": "bca7284e-7413-4a83-a407-d4d84870a715",
   "metadata": {},
   "source": [
    "# Globant Data Scientist Test"
   ]
  },
  {
   "cell_type": "markdown",
   "id": "2f703833-b7af-4f95-a361-b659ae606f7c",
   "metadata": {},
   "source": [
    "Javier Gerardo Urrecha Zambada"
   ]
  },
  {
   "cell_type": "markdown",
   "id": "4e24e336-035d-4dae-a42d-2d7ace37fd56",
   "metadata": {},
   "source": [
    "## 1. NSF Research Awards Abstracts"
   ]
  },
  {
   "cell_type": "markdown",
   "id": "59102c38-01b3-4be5-98a8-5acf3169e4be",
   "metadata": {},
   "source": [
    "This dataset comprises several paper abstracts, one per file, that were furnished by the NSF\n",
    "(National Science Foundation). A sample abstract is shown at the end.\n",
    "Your task is developing an unsupervised model which classifies abstracts into a topic (discover\n",
    "them!). Indeed, your goal is to group abstracts based on their semantic similarity.\n"
   ]
  },
  {
   "cell_type": "markdown",
   "id": "4eb1dd52-e4fc-490e-821c-786f8b3c8c2b",
   "metadata": {},
   "source": [
    "All libraries used are next"
   ]
  },
  {
   "cell_type": "code",
   "execution_count": 1,
   "id": "ecddcaa4-66ad-49c7-bba0-9399e81d288b",
   "metadata": {},
   "outputs": [],
   "source": [
    "# Processing\n",
    "import pandas as pd\n",
    "import numpy as np\n",
    "\n",
    "# System\n",
    "import os\n",
    "import warnings\n",
    "import pickle\n",
    "\n",
    "# Text utils\n",
    "from nltk.corpus import stopwords\n",
    "from nltk.tokenize import RegexpTokenizer\n",
    "import re\n",
    "\n",
    "# Algorithm\n",
    "from sklearn.feature_extraction.text import TfidfVectorizer\n",
    "from sklearn.cluster import KMeans\n",
    "\n",
    "# Visualization\n",
    "import matplotlib.pyplot as plt"
   ]
  },
  {
   "cell_type": "markdown",
   "id": "5956cf2b-8efb-4bcf-a4c6-5e1b1babbf72",
   "metadata": {},
   "source": [
    "### 1.1 Let us try a first example"
   ]
  },
  {
   "cell_type": "code",
   "execution_count": 2,
   "id": "085fee43-7e02-4dcb-9229-0360ba040408",
   "metadata": {},
   "outputs": [],
   "source": [
    "# Read file\n",
    "df = pd.read_xml('2020/2000009.xml')\n",
    "columns = df.columns"
   ]
  },
  {
   "cell_type": "code",
   "execution_count": 3,
   "id": "81de7220-f49a-4029-8431-510dc4dcea58",
   "metadata": {},
   "outputs": [
    {
     "data": {
      "text/html": [
       "<div>\n",
       "<style scoped>\n",
       "    .dataframe tbody tr th:only-of-type {\n",
       "        vertical-align: middle;\n",
       "    }\n",
       "\n",
       "    .dataframe tbody tr th {\n",
       "        vertical-align: top;\n",
       "    }\n",
       "\n",
       "    .dataframe thead th {\n",
       "        text-align: right;\n",
       "    }\n",
       "</style>\n",
       "<table border=\"1\" class=\"dataframe\">\n",
       "  <thead>\n",
       "    <tr style=\"text-align: right;\">\n",
       "      <th></th>\n",
       "      <th>AwardTitle</th>\n",
       "      <th>AGENCY</th>\n",
       "      <th>AwardEffectiveDate</th>\n",
       "      <th>AwardExpirationDate</th>\n",
       "      <th>AwardTotalIntnAmount</th>\n",
       "      <th>AwardAmount</th>\n",
       "      <th>AwardInstrument</th>\n",
       "      <th>Organization</th>\n",
       "      <th>ProgramOfficer</th>\n",
       "      <th>AbstractNarration</th>\n",
       "      <th>...</th>\n",
       "      <th>AWDG_AGCY_CODE</th>\n",
       "      <th>AwardID</th>\n",
       "      <th>Investigator</th>\n",
       "      <th>Institution</th>\n",
       "      <th>Performance_Institution</th>\n",
       "      <th>ProgramElement</th>\n",
       "      <th>ProgramReference</th>\n",
       "      <th>Appropriation</th>\n",
       "      <th>Fund</th>\n",
       "      <th>FUND_OBLG</th>\n",
       "    </tr>\n",
       "  </thead>\n",
       "  <tbody>\n",
       "    <tr>\n",
       "      <th>0</th>\n",
       "      <td>Workshop on Replication of a Community-Engaged...</td>\n",
       "      <td>NSF</td>\n",
       "      <td>01/01/2020</td>\n",
       "      <td>12/31/2022</td>\n",
       "      <td>27438.0</td>\n",
       "      <td>27438</td>\n",
       "      <td>NaN</td>\n",
       "      <td>NaN</td>\n",
       "      <td>NaN</td>\n",
       "      <td>The National Academy of Engineering identified...</td>\n",
       "      <td>...</td>\n",
       "      <td>4900</td>\n",
       "      <td>2000009</td>\n",
       "      <td>NaN</td>\n",
       "      <td>NaN</td>\n",
       "      <td>NaN</td>\n",
       "      <td>NaN</td>\n",
       "      <td>NaN</td>\n",
       "      <td>NaN</td>\n",
       "      <td>NaN</td>\n",
       "      <td>2020~27438</td>\n",
       "    </tr>\n",
       "  </tbody>\n",
       "</table>\n",
       "<p>1 rows × 27 columns</p>\n",
       "</div>"
      ],
      "text/plain": [
       "                                          AwardTitle AGENCY  \\\n",
       "0  Workshop on Replication of a Community-Engaged...    NSF   \n",
       "\n",
       "  AwardEffectiveDate AwardExpirationDate  AwardTotalIntnAmount  AwardAmount  \\\n",
       "0         01/01/2020          12/31/2022               27438.0        27438   \n",
       "\n",
       "   AwardInstrument  Organization  ProgramOfficer  \\\n",
       "0              NaN           NaN             NaN   \n",
       "\n",
       "                                   AbstractNarration  ... AWDG_AGCY_CODE  \\\n",
       "0  The National Academy of Engineering identified...  ...           4900   \n",
       "\n",
       "   AwardID  Investigator Institution  Performance_Institution  ProgramElement  \\\n",
       "0  2000009           NaN         NaN                      NaN             NaN   \n",
       "\n",
       "   ProgramReference  Appropriation  Fund   FUND_OBLG  \n",
       "0               NaN            NaN   NaN  2020~27438  \n",
       "\n",
       "[1 rows x 27 columns]"
      ]
     },
     "execution_count": 3,
     "metadata": {},
     "output_type": "execute_result"
    }
   ],
   "source": [
    "df"
   ]
  },
  {
   "cell_type": "markdown",
   "id": "df22718d-8924-4338-824d-15c63a84a4c7",
   "metadata": {},
   "source": [
    "### 1.2 Import all files"
   ]
  },
  {
   "cell_type": "code",
   "execution_count": 4,
   "id": "d19c1168-8555-4866-9f59-ba0e08890fe3",
   "metadata": {},
   "outputs": [
    {
     "name": "stdout",
     "output_type": "stream",
     "text": [
      "13294\n"
     ]
    }
   ],
   "source": [
    "# Get the list of all files and directories\n",
    "path = \"2020\"\n",
    "dir_list = os.listdir(path)\n",
    "print(len(dir_list))"
   ]
  },
  {
   "cell_type": "code",
   "execution_count": 5,
   "id": "86a4183e-714f-4c1a-a3c9-b4d324570e5f",
   "metadata": {},
   "outputs": [],
   "source": [
    "# Append all files to a DataFrame\n",
    "dfs = pd.DataFrame(columns=columns)\n",
    "\n",
    "# Iterate directory\n",
    "for file in dir_list:\n",
    "    \n",
    "    # Read and append dataframes\n",
    "    df = pd.read_xml(path + '/' + file)\n",
    "    dfs = pd.concat([dfs, df], ignore_index = True)\n",
    "    warnings.filterwarnings(\"ignore\")"
   ]
  },
  {
   "cell_type": "markdown",
   "id": "9f14616f-1e85-4fdd-9069-490d4179fa54",
   "metadata": {},
   "source": [
    "Let's see a first glance of the data and a briefly description"
   ]
  },
  {
   "cell_type": "code",
   "execution_count": 6,
   "id": "ed68f1af-c125-44f9-8324-6402f1f143e2",
   "metadata": {},
   "outputs": [
    {
     "data": {
      "text/html": [
       "<div>\n",
       "<style scoped>\n",
       "    .dataframe tbody tr th:only-of-type {\n",
       "        vertical-align: middle;\n",
       "    }\n",
       "\n",
       "    .dataframe tbody tr th {\n",
       "        vertical-align: top;\n",
       "    }\n",
       "\n",
       "    .dataframe thead th {\n",
       "        text-align: right;\n",
       "    }\n",
       "</style>\n",
       "<table border=\"1\" class=\"dataframe\">\n",
       "  <thead>\n",
       "    <tr style=\"text-align: right;\">\n",
       "      <th></th>\n",
       "      <th>AwardTitle</th>\n",
       "      <th>AGENCY</th>\n",
       "      <th>AwardEffectiveDate</th>\n",
       "      <th>AwardExpirationDate</th>\n",
       "      <th>AwardTotalIntnAmount</th>\n",
       "      <th>AwardAmount</th>\n",
       "      <th>AwardInstrument</th>\n",
       "      <th>Organization</th>\n",
       "      <th>ProgramOfficer</th>\n",
       "      <th>AbstractNarration</th>\n",
       "      <th>...</th>\n",
       "      <th>AwardID</th>\n",
       "      <th>Investigator</th>\n",
       "      <th>Institution</th>\n",
       "      <th>Performance_Institution</th>\n",
       "      <th>ProgramElement</th>\n",
       "      <th>ProgramReference</th>\n",
       "      <th>Appropriation</th>\n",
       "      <th>Fund</th>\n",
       "      <th>FUND_OBLG</th>\n",
       "      <th>POR</th>\n",
       "    </tr>\n",
       "  </thead>\n",
       "  <tbody>\n",
       "    <tr>\n",
       "      <th>0</th>\n",
       "      <td>Collaborative Research: Excellence in Research...</td>\n",
       "      <td>NSF</td>\n",
       "      <td>07/01/2020</td>\n",
       "      <td>06/30/2023</td>\n",
       "      <td>229338.0</td>\n",
       "      <td>345460</td>\n",
       "      <td>NaN</td>\n",
       "      <td>NaN</td>\n",
       "      <td>NaN</td>\n",
       "      <td>Head and heart development are closely intertw...</td>\n",
       "      <td>...</td>\n",
       "      <td>2000005</td>\n",
       "      <td>NaN</td>\n",
       "      <td>NaN</td>\n",
       "      <td>NaN</td>\n",
       "      <td>NaN</td>\n",
       "      <td>NaN</td>\n",
       "      <td>NaN</td>\n",
       "      <td>NaN</td>\n",
       "      <td>2021~116122</td>\n",
       "      <td>NaN</td>\n",
       "    </tr>\n",
       "    <tr>\n",
       "      <th>1</th>\n",
       "      <td>Workshop on Replication of a Community-Engaged...</td>\n",
       "      <td>NSF</td>\n",
       "      <td>01/01/2020</td>\n",
       "      <td>12/31/2022</td>\n",
       "      <td>27438.0</td>\n",
       "      <td>27438</td>\n",
       "      <td>NaN</td>\n",
       "      <td>NaN</td>\n",
       "      <td>NaN</td>\n",
       "      <td>The National Academy of Engineering identified...</td>\n",
       "      <td>...</td>\n",
       "      <td>2000009</td>\n",
       "      <td>NaN</td>\n",
       "      <td>NaN</td>\n",
       "      <td>NaN</td>\n",
       "      <td>NaN</td>\n",
       "      <td>NaN</td>\n",
       "      <td>NaN</td>\n",
       "      <td>NaN</td>\n",
       "      <td>2020~27438</td>\n",
       "      <td>NaN</td>\n",
       "    </tr>\n",
       "    <tr>\n",
       "      <th>2</th>\n",
       "      <td>Brazos Analysis Seminar</td>\n",
       "      <td>NSF</td>\n",
       "      <td>02/01/2020</td>\n",
       "      <td>01/31/2023</td>\n",
       "      <td>49999.0</td>\n",
       "      <td>49999</td>\n",
       "      <td>NaN</td>\n",
       "      <td>NaN</td>\n",
       "      <td>NaN</td>\n",
       "      <td>This award provides three years of funding to ...</td>\n",
       "      <td>...</td>\n",
       "      <td>2000012</td>\n",
       "      <td>NaN</td>\n",
       "      <td>NaN</td>\n",
       "      <td>NaN</td>\n",
       "      <td>NaN</td>\n",
       "      <td>NaN</td>\n",
       "      <td>NaN</td>\n",
       "      <td>NaN</td>\n",
       "      <td>2020~49999</td>\n",
       "      <td>NaN</td>\n",
       "    </tr>\n",
       "    <tr>\n",
       "      <th>3</th>\n",
       "      <td>Collaborative Research: ECR EIE DCL: The Devel...</td>\n",
       "      <td>NSF</td>\n",
       "      <td>09/01/2020</td>\n",
       "      <td>08/31/2023</td>\n",
       "      <td>372421.0</td>\n",
       "      <td>550194</td>\n",
       "      <td>NaN</td>\n",
       "      <td>NaN</td>\n",
       "      <td>NaN</td>\n",
       "      <td>This collaborative research project, involving...</td>\n",
       "      <td>...</td>\n",
       "      <td>2000021</td>\n",
       "      <td>NaN</td>\n",
       "      <td>NaN</td>\n",
       "      <td>NaN</td>\n",
       "      <td>NaN</td>\n",
       "      <td>NaN</td>\n",
       "      <td>NaN</td>\n",
       "      <td>NaN</td>\n",
       "      <td>2022~177773</td>\n",
       "      <td>NaN</td>\n",
       "    </tr>\n",
       "    <tr>\n",
       "      <th>4</th>\n",
       "      <td>Research Initiation Award: Microwave Synthesis...</td>\n",
       "      <td>NSF</td>\n",
       "      <td>05/01/2020</td>\n",
       "      <td>04/30/2023</td>\n",
       "      <td>295500.0</td>\n",
       "      <td>354503</td>\n",
       "      <td>NaN</td>\n",
       "      <td>NaN</td>\n",
       "      <td>NaN</td>\n",
       "      <td>Research Initiation Awards provide support for...</td>\n",
       "      <td>...</td>\n",
       "      <td>2000028</td>\n",
       "      <td>NaN</td>\n",
       "      <td>NaN</td>\n",
       "      <td>NaN</td>\n",
       "      <td>NaN</td>\n",
       "      <td>NaN</td>\n",
       "      <td>NaN</td>\n",
       "      <td>NaN</td>\n",
       "      <td>2022~59003</td>\n",
       "      <td>NaN</td>\n",
       "    </tr>\n",
       "  </tbody>\n",
       "</table>\n",
       "<p>5 rows × 28 columns</p>\n",
       "</div>"
      ],
      "text/plain": [
       "                                          AwardTitle AGENCY  \\\n",
       "0  Collaborative Research: Excellence in Research...    NSF   \n",
       "1  Workshop on Replication of a Community-Engaged...    NSF   \n",
       "2                            Brazos Analysis Seminar    NSF   \n",
       "3  Collaborative Research: ECR EIE DCL: The Devel...    NSF   \n",
       "4  Research Initiation Award: Microwave Synthesis...    NSF   \n",
       "\n",
       "  AwardEffectiveDate AwardExpirationDate  AwardTotalIntnAmount AwardAmount  \\\n",
       "0         07/01/2020          06/30/2023              229338.0      345460   \n",
       "1         01/01/2020          12/31/2022               27438.0       27438   \n",
       "2         02/01/2020          01/31/2023               49999.0       49999   \n",
       "3         09/01/2020          08/31/2023              372421.0      550194   \n",
       "4         05/01/2020          04/30/2023              295500.0      354503   \n",
       "\n",
       "   AwardInstrument  Organization  ProgramOfficer  \\\n",
       "0              NaN           NaN             NaN   \n",
       "1              NaN           NaN             NaN   \n",
       "2              NaN           NaN             NaN   \n",
       "3              NaN           NaN             NaN   \n",
       "4              NaN           NaN             NaN   \n",
       "\n",
       "                                   AbstractNarration  ...  AwardID  \\\n",
       "0  Head and heart development are closely intertw...  ...  2000005   \n",
       "1  The National Academy of Engineering identified...  ...  2000009   \n",
       "2  This award provides three years of funding to ...  ...  2000012   \n",
       "3  This collaborative research project, involving...  ...  2000021   \n",
       "4  Research Initiation Awards provide support for...  ...  2000028   \n",
       "\n",
       "  Investigator  Institution Performance_Institution ProgramElement  \\\n",
       "0          NaN          NaN                     NaN            NaN   \n",
       "1          NaN          NaN                     NaN            NaN   \n",
       "2          NaN          NaN                     NaN            NaN   \n",
       "3          NaN          NaN                     NaN            NaN   \n",
       "4          NaN          NaN                     NaN            NaN   \n",
       "\n",
       "  ProgramReference Appropriation Fund    FUND_OBLG  POR  \n",
       "0              NaN           NaN  NaN  2021~116122  NaN  \n",
       "1              NaN           NaN  NaN   2020~27438  NaN  \n",
       "2              NaN           NaN  NaN   2020~49999  NaN  \n",
       "3              NaN           NaN  NaN  2022~177773  NaN  \n",
       "4              NaN           NaN  NaN   2022~59003  NaN  \n",
       "\n",
       "[5 rows x 28 columns]"
      ]
     },
     "execution_count": 6,
     "metadata": {},
     "output_type": "execute_result"
    }
   ],
   "source": [
    "dfs.head()"
   ]
  },
  {
   "cell_type": "code",
   "execution_count": 7,
   "id": "c32dd0ec-abbb-4f50-9be5-7f3a1f7c0670",
   "metadata": {},
   "outputs": [
    {
     "data": {
      "text/plain": [
       "AwardTitle                     0\n",
       "AGENCY                         0\n",
       "AwardEffectiveDate             0\n",
       "AwardExpirationDate            0\n",
       "AwardTotalIntnAmount           0\n",
       "AwardAmount                    0\n",
       "AwardInstrument            13294\n",
       "Organization               13294\n",
       "ProgramOfficer             13294\n",
       "AbstractNarration            141\n",
       "MinAmdLetterDate               0\n",
       "MaxAmdLetterDate               0\n",
       "ARRAAmount                 13294\n",
       "TRAN_TYPE                      0\n",
       "CFDA_NUM                      35\n",
       "NSF_PAR_USE_FLAG               0\n",
       "FUND_AGCY_CODE                 0\n",
       "AWDG_AGCY_CODE                 0\n",
       "AwardID                        0\n",
       "Investigator               13294\n",
       "Institution                13294\n",
       "Performance_Institution    13294\n",
       "ProgramElement             13294\n",
       "ProgramReference           13294\n",
       "Appropriation              13294\n",
       "Fund                       13294\n",
       "FUND_OBLG                      6\n",
       "POR                        13294\n",
       "dtype: int64"
      ]
     },
     "execution_count": 7,
     "metadata": {},
     "output_type": "execute_result"
    }
   ],
   "source": [
    "# Check for null values\n",
    "dfs.isnull().sum()"
   ]
  },
  {
   "cell_type": "code",
   "execution_count": 8,
   "id": "be32310c-8e6f-4166-adb1-7daeefa0b563",
   "metadata": {},
   "outputs": [
    {
     "name": "stdout",
     "output_type": "stream",
     "text": [
      "AwardTitle 11277\n",
      "AGENCY 1\n",
      "AwardEffectiveDate 221\n",
      "AwardExpirationDate 156\n",
      "AwardTotalIntnAmount 9522\n",
      "AwardAmount 10002\n",
      "AwardInstrument 0\n",
      "Organization 0\n",
      "ProgramOfficer 0\n",
      "AbstractNarration 11556\n",
      "MinAmdLetterDate 541\n",
      "MaxAmdLetterDate 740\n",
      "ARRAAmount 0\n",
      "TRAN_TYPE 2\n",
      "CFDA_NUM 51\n",
      "NSF_PAR_USE_FLAG 2\n",
      "FUND_AGCY_CODE 1\n",
      "AWDG_AGCY_CODE 1\n",
      "AwardID 13294\n",
      "Investigator 0\n",
      "Institution 0\n",
      "Performance_Institution 0\n",
      "ProgramElement 0\n",
      "ProgramReference 0\n",
      "Appropriation 0\n",
      "Fund 0\n",
      "FUND_OBLG 9993\n",
      "POR 0\n"
     ]
    }
   ],
   "source": [
    "# Check for variety of values\n",
    "for x in dfs.columns:\n",
    "    print(x ,dfs[x].nunique()) "
   ]
  },
  {
   "cell_type": "markdown",
   "id": "0a060dca-1a53-45c5-b97c-3fd10a302db3",
   "metadata": {},
   "source": [
    "There is some columns which are completely empy and columns with the same value, let's drop them"
   ]
  },
  {
   "cell_type": "markdown",
   "id": "4ee671ec-2a59-4cee-b946-03f1bea8dc07",
   "metadata": {},
   "source": [
    "We are left with a clean dataset"
   ]
  },
  {
   "cell_type": "markdown",
   "id": "ad24adc5-4d71-4f8d-8b08-c75e6ddfbdd1",
   "metadata": {},
   "source": [
    "For this test we only care for the abstract column and title"
   ]
  },
  {
   "cell_type": "code",
   "execution_count": 9,
   "id": "81da2787-559d-408b-b997-e80bfb7611f4",
   "metadata": {},
   "outputs": [],
   "source": [
    "dfs = pd.DataFrame([dfs['AbstractNarration'], dfs['AwardTitle']]).T"
   ]
  },
  {
   "cell_type": "markdown",
   "id": "2806bb8e-9ea1-4718-a80d-0f2e7875768b",
   "metadata": {},
   "source": [
    "## 2. Cleaning Data"
   ]
  },
  {
   "cell_type": "markdown",
   "id": "bd246412-5d49-40ac-84da-758ec0404baf",
   "metadata": {},
   "source": [
    "Let us see a example of an abstract"
   ]
  },
  {
   "cell_type": "code",
   "execution_count": 10,
   "id": "55c5ebd2-1186-4b76-988d-bf6ab842b7a1",
   "metadata": {},
   "outputs": [
    {
     "data": {
      "text/plain": [
       "['This award provides three years of funding to help defray the expenses of participants in the semi-annual conference series \"Brazos Analysis Seminar\" 2020-2022, the first meeting of which will be held March 28-29, 2020 at Texas A&M University. Subsequent meetings will rotate among University of Houston, Texas Christian University, University of Texas at Tyler, Baylor University, and Texas A&M University. The Brazos Analysis Seminar will bring together analysts at academic institutions within the South-Central region of the United States on a regular basis to communicate their research, with a particular emphasis on providing an opportunity for young researchers and graduate students to meet, collaborate and disseminate their work on a regular basis during the academic year. The format for the seminar provides ample opportunity for graduate students, postdocs, and junior investigators to present their work, start new collaborations, learn about the latest developments in modern analysis, and to advance their careers.<br/><br/>The scientific topics of this conference series will  focus  on the analytic theory of  operator algebras and operator spaces and their connections to  harmonic analysis, ergodic theory, dynamical systems, and quantum information theory. These connections include free probability methods in the study of quantum groups, Fourier multiplier theory on noncommutative Lp spaces,  dynamical system methods and  K-theory methods in the classification of C∗-algebras and von Neumann algebras,  etale groupoids, and inverse semigroups. In each meeting, there will be three plenary talks given by prominent experts, six contributed talks presented by three experts from the region and three upper-level PhD students. The goal is to keep both early-career and senior researchers in south-central institutions abreast of the latest major mathematical developments in noncommutative analysis, and to enhance and advance research on related topics. Additional information is available on the seminar website https://sites.google.com/site/brazosanalysisseminar.<br/><br/>This award reflects NSF\\'s statutory mission and has been deemed worthy of support through evaluation using the Foundation\\'s intellectual merit and broader impacts review criteria.']"
      ]
     },
     "execution_count": 10,
     "metadata": {},
     "output_type": "execute_result"
    }
   ],
   "source": [
    "list(dfs.loc[dfs['AwardTitle'] == 'Brazos Analysis Seminar']['AbstractNarration'])"
   ]
  },
  {
   "cell_type": "markdown",
   "id": "efdc7b6b-33ee-4dca-a29a-08834e041c04",
   "metadata": {},
   "source": [
    "We can see html tags, stopwords and punctuation, let's created some functions to clean it."
   ]
  },
  {
   "cell_type": "code",
   "execution_count": 11,
   "id": "a69de3ec-d413-4637-b01c-939df67f2bd3",
   "metadata": {},
   "outputs": [],
   "source": [
    "def remove_stop_words(text:str)->str:\n",
    "    \"\"\"\n",
    "    # Function for removing stop words\n",
    "    parameters:\n",
    "    text: string from wich remove english stop words\n",
    "    \n",
    "    return: a cleaned string\n",
    "    \"\"\"\n",
    "    text = text.split()\n",
    "    stops = set(stopwords.words(\"english\"))\n",
    "    text = [w for w in text if not w in stops]\n",
    "    text = \" \".join(text)\n",
    "    \n",
    "    return text\n",
    "\n",
    "# Function for removing punctuation\n",
    "def remove_punctuation(text:str)->str:\n",
    "    \"\"\"\n",
    "    # Function for removing punctuation\n",
    "    parameters:\n",
    "    text: string from wich remove punctuation\n",
    "    \n",
    "    return: a cleaned string\n",
    "    \"\"\"\n",
    "    tokenizer = RegexpTokenizer(r'\\w+')\n",
    "    text = tokenizer.tokenize(text)\n",
    "    text = \" \".join(text)\n",
    "    \n",
    "    return text\n",
    "\n",
    "def remove_html(text:str)->str:\n",
    "    \"\"\"\n",
    "    # Function for removing the html tags\n",
    "    parameters:\n",
    "    text: string from wich remove html tags\n",
    "    \n",
    "    return: a cleaned string\n",
    "    \"\"\"\n",
    "    html_pattern = re.compile('br/|<[^>]+>|&([a-z0-9]+|#[0-9]{1,6}|#x[0-9a-f]{1,6});')\n",
    "    \n",
    "    return html_pattern.sub(r'', text)\n",
    "\n",
    "# Make sure datatype is a string\n",
    "dfs['AbstractNarration'] = dfs['AbstractNarration'].astype(str)\n",
    "\n",
    "# Applying all the functions in AbstractNarration and storing as a cleaned_abstract\n",
    "dfs['cleaned_abs'] = dfs.AbstractNarration.apply(func=remove_html)\n",
    "dfs['cleaned_abs'] = dfs.cleaned_abs.apply(func = remove_stop_words)\n",
    "dfs['cleaned_abs'] = dfs.cleaned_abs.apply(func=remove_punctuation)"
   ]
  },
  {
   "cell_type": "code",
   "execution_count": 12,
   "id": "631b75c1-4c0e-4748-a1c3-1f1209c67046",
   "metadata": {},
   "outputs": [
    {
     "data": {
      "text/plain": [
       "\"The National Academy of Engineering identified solving “complex social issues” as a grand challenge for the 21st century. This project aims to serve the national interest by preparing engineers to work in interdisciplinary teams that can address such complex challenges.   The University of Notre Dame, through the Center for Civic Innovation, led prior work in Indiana known as the Bowman Creek Educational Ecosystem project.  Through this project, students and faculty from universities, community colleges, and high school worked together with community groups, local businesses, and city government on complex problems such as storm water management and the reuse of abandoned properties.  During their work, the students developed important STEM skills, as well as 21st century skills, such as critical thinking and collaboration. This workshop will explore how to replicate the successes of the Bowman Creed Educational Ecosystem in other deindustrialized cities.  &lt;br/&gt;&lt;br/&gt;Exposing undergraduate engineering students to interdisciplinary and socially relevant problem solving has the potential to inform students’ career choices and preparation as engineers.  In addition, to have successful engineering careers, engineering undergraduates must learn to work with professionals across sectors that include non-governmental organizations, government agencies, and industry.  The proposed workshop will lay the groundwork to replicate a strategy for accomplishing both goals.  Specifically, the workshop will explore how to replicate Indiana’s Bowman Creek Educational Ecosystem in communities in Youngstown, Ohio and Erie, Pennsylvania.  Participants will include representatives of academia, city government, and other community partners to discuss evolution of the Bowman Creek Educational Ecosystem, and to generalize the Community-Engaged Educational Ecosystem model, build a community of practice, identify barriers to replication, and determine funding models.  Workshop organizers plan to disseminate results through technical reports, a meeting of the Metrolab Network (an organization devoted to civic and university partnerships), and a conference presentation at a gathering such as the American Society for Engineering conference.  This project is supported by the NSF Improving Undergraduate STEM Education Program: Education and Human Resources (IUSE: EHR) Program, which supports research and development projects to improve the effectiveness of STEM education for all students. Through the Institutional and Community Transformation track, the program supports efforts to improve and transform STEM education across institutions of higher education and disciplinary communities.&lt;br/&gt;&lt;br/&gt;This award reflects NSF's statutory mission and has been deemed worthy of support through evaluation using the Foundation's intellectual merit and broader impacts review criteria.\""
      ]
     },
     "execution_count": 12,
     "metadata": {},
     "output_type": "execute_result"
    }
   ],
   "source": [
    "dfs.iloc[1].AbstractNarration"
   ]
  },
  {
   "cell_type": "code",
   "execution_count": 13,
   "id": "c1d1b82a-916d-4b30-a704-e2d3cbc4e158",
   "metadata": {},
   "outputs": [
    {
     "data": {
      "text/plain": [
       "'The National Academy Engineering identified solving complex social issues grand challenge 21st century This project aims serve national interest preparing engineers work interdisciplinary teams address complex challenges The University Notre Dame Center Civic Innovation led prior work Indiana known Bowman Creek Educational Ecosystem project Through project students faculty universities community colleges high school worked together community groups local businesses city government complex problems storm water management reuse abandoned properties During work students developed important STEM skills well 21st century skills critical thinking collaboration This workshop explore replicate successes Bowman Creed Educational Ecosystem deindustrialized cities Exposing undergraduate engineering students interdisciplinary socially relevant problem solving potential inform students career choices preparation engineers In addition successful engineering careers engineering undergraduates must learn work professionals across sectors include non governmental organizations government agencies industry The proposed workshop lay groundwork replicate strategy accomplishing goals Specifically workshop explore replicate Indiana s Bowman Creek Educational Ecosystem communities Youngstown Ohio Erie Pennsylvania Participants include representatives academia city government community partners discuss evolution Bowman Creek Educational Ecosystem generalize Community Engaged Educational Ecosystem model build community practice identify barriers replication determine funding models Workshop organizers plan disseminate results technical reports meeting Metrolab Network an organization devoted civic university partnerships conference presentation gathering American Society Engineering conference This project supported NSF Improving Undergraduate STEM Education Program Education Human Resources IUSE EHR Program supports research development projects improve effectiveness STEM education students Through Institutional Community Transformation track program supports efforts improve transform STEM education across institutions higher education disciplinary communities This award reflects NSF s statutory mission deemed worthy support evaluation using Foundation s intellectual merit broader impacts review criteria'"
      ]
     },
     "execution_count": 13,
     "metadata": {},
     "output_type": "execute_result"
    }
   ],
   "source": [
    "dfs.iloc[1].cleaned_abs"
   ]
  },
  {
   "cell_type": "code",
   "execution_count": 14,
   "id": "78d041b2-d590-4372-9f04-8f677126503c",
   "metadata": {},
   "outputs": [
    {
     "data": {
      "text/html": [
       "<div>\n",
       "<style scoped>\n",
       "    .dataframe tbody tr th:only-of-type {\n",
       "        vertical-align: middle;\n",
       "    }\n",
       "\n",
       "    .dataframe tbody tr th {\n",
       "        vertical-align: top;\n",
       "    }\n",
       "\n",
       "    .dataframe thead th {\n",
       "        text-align: right;\n",
       "    }\n",
       "</style>\n",
       "<table border=\"1\" class=\"dataframe\">\n",
       "  <thead>\n",
       "    <tr style=\"text-align: right;\">\n",
       "      <th></th>\n",
       "      <th>AbstractNarration</th>\n",
       "      <th>AwardTitle</th>\n",
       "      <th>cleaned_abs</th>\n",
       "    </tr>\n",
       "  </thead>\n",
       "  <tbody>\n",
       "    <tr>\n",
       "      <th>0</th>\n",
       "      <td>Head and heart development are closely intertw...</td>\n",
       "      <td>Collaborative Research: Excellence in Research...</td>\n",
       "      <td>Head heart development closely intertwined emb...</td>\n",
       "    </tr>\n",
       "    <tr>\n",
       "      <th>1</th>\n",
       "      <td>The National Academy of Engineering identified...</td>\n",
       "      <td>Workshop on Replication of a Community-Engaged...</td>\n",
       "      <td>The National Academy Engineering identified so...</td>\n",
       "    </tr>\n",
       "    <tr>\n",
       "      <th>2</th>\n",
       "      <td>This award provides three years of funding to ...</td>\n",
       "      <td>Brazos Analysis Seminar</td>\n",
       "      <td>This award provides three years funding help d...</td>\n",
       "    </tr>\n",
       "    <tr>\n",
       "      <th>3</th>\n",
       "      <td>This collaborative research project, involving...</td>\n",
       "      <td>Collaborative Research: ECR EIE DCL: The Devel...</td>\n",
       "      <td>This collaborative research project involving ...</td>\n",
       "    </tr>\n",
       "    <tr>\n",
       "      <th>4</th>\n",
       "      <td>Research Initiation Awards provide support for...</td>\n",
       "      <td>Research Initiation Award: Microwave Synthesis...</td>\n",
       "      <td>Research Initiation Awards provide support jun...</td>\n",
       "    </tr>\n",
       "  </tbody>\n",
       "</table>\n",
       "</div>"
      ],
      "text/plain": [
       "                                   AbstractNarration  \\\n",
       "0  Head and heart development are closely intertw...   \n",
       "1  The National Academy of Engineering identified...   \n",
       "2  This award provides three years of funding to ...   \n",
       "3  This collaborative research project, involving...   \n",
       "4  Research Initiation Awards provide support for...   \n",
       "\n",
       "                                          AwardTitle  \\\n",
       "0  Collaborative Research: Excellence in Research...   \n",
       "1  Workshop on Replication of a Community-Engaged...   \n",
       "2                            Brazos Analysis Seminar   \n",
       "3  Collaborative Research: ECR EIE DCL: The Devel...   \n",
       "4  Research Initiation Award: Microwave Synthesis...   \n",
       "\n",
       "                                         cleaned_abs  \n",
       "0  Head heart development closely intertwined emb...  \n",
       "1  The National Academy Engineering identified so...  \n",
       "2  This award provides three years funding help d...  \n",
       "3  This collaborative research project involving ...  \n",
       "4  Research Initiation Awards provide support jun...  "
      ]
     },
     "execution_count": 14,
     "metadata": {},
     "output_type": "execute_result"
    }
   ],
   "source": [
    "dfs.head()"
   ]
  },
  {
   "cell_type": "markdown",
   "id": "b6e2289c-adff-4861-810e-c8413c036b74",
   "metadata": {},
   "source": [
    "# 3. Algorithm"
   ]
  },
  {
   "cell_type": "markdown",
   "id": "03ec0ef6-c9be-4a6c-b5e1-bdd3e67d33df",
   "metadata": {},
   "source": [
    "Now that data is clean we can start vectorizing the data and create a matrix using TF-IDF"
   ]
  },
  {
   "cell_type": "code",
   "execution_count": 28,
   "id": "841c9d15-7cf6-40f4-9e36-a40bd7f99770",
   "metadata": {},
   "outputs": [],
   "source": [
    "# Converting the abstracts into vectors and used bigram\n",
    "tf = TfidfVectorizer(analyzer='word', ngram_range=(2, 3), min_df = 1, stop_words='english')\n",
    "tfidf_matrix = tf.fit_transform(dfs['cleaned_abs'])\n",
    "\n",
    "# Save vectorizer\n",
    "with open(\"vectorizer.pkl\", \"wb\") as f:\n",
    "    pickle.dump(tf, f)"
   ]
  },
  {
   "cell_type": "markdown",
   "id": "bf39496e-db18-4472-9165-c54666fed260",
   "metadata": {},
   "source": [
    "This is an unsupervised problem. We should use a clustering algorithm, in this case we can apply kmeans to generate possibly topics to every cluster created."
   ]
  },
  {
   "cell_type": "markdown",
   "id": "c473ff95-7878-4fc7-9455-919602879b2a",
   "metadata": {},
   "source": [
    "## 3.1 Elbow Method "
   ]
  },
  {
   "cell_type": "markdown",
   "id": "8b86957e-6bb3-497a-95b2-ed1b0d169d81",
   "metadata": {},
   "source": [
    "The elbow method help us decide the number of clusters. The elbow method simply entails looking at a line graph that (hopefully) shows as more centroids are added the breadth of data around those centroids decreases. In this case, the breadth of data is called distortion or sum of square errors (SSE). Distortion could decrease rapidly at first then slowly flatten forming an “elbow” in a line graph. I use qualifiers “hopefully” and “could” because the results really depend on your data."
   ]
  },
  {
   "cell_type": "markdown",
   "id": "97070ecf-0635-4d18-87ff-54dab62b4453",
   "metadata": {},
   "source": [
    "It is computationally expensive to run kmeans in a long range of cluster, the I decided to onlt tested between 5 and 25 clusters"
   ]
  },
  {
   "cell_type": "code",
   "execution_count": 16,
   "id": "f234cbc2-e5d3-4cca-bc3f-44395127c6c6",
   "metadata": {},
   "outputs": [
    {
     "name": "stdout",
     "output_type": "stream",
     "text": [
      "12986.488197807477\n",
      "12986.90613564448\n",
      "12993.832892240494\n",
      "12975.439626646265\n",
      "12977.933548439953\n",
      "12956.382722079712\n",
      "12966.100119152683\n",
      "12976.847240386807\n"
     ]
    }
   ],
   "source": [
    "# Get distortion(SSE)\n",
    "distortions = []\n",
    "K = range(1, 20)\n",
    "\n",
    "# Iterate on diferent number of clusters\n",
    "for k in K:\n",
    "    kmeanModel = KMeans(n_clusters=k)\n",
    "    kmeanModel.fit(tfidf_matrix)\n",
    "        \n",
    "    # Save distorsions\n",
    "    distortions.append(kmeanModel.inertia_)\n",
    "    \n",
    "    # Save distorsion\n",
    "    with open(f\"kmeanModel_inertia_{k}.pkl\", \"wb\") as f:\n",
    "        pickle.dump(kmeanModel.inertia_, f)\n",
    "    print(kmeanModel.inertia_)"
   ]
  },
  {
   "cell_type": "code",
   "execution_count": 24,
   "id": "e881b984-99f3-489a-b287-fbdabc505afe",
   "metadata": {},
   "outputs": [],
   "source": [
    "# Load distortions\n",
    "distortions = []\n",
    "for i in range(1, 20):    \n",
    "    with open(f\"kmeanModel_inertia_{i}.pkl\", \"rb\") as f:\n",
    "        ds = pickle.load(f)\n",
    "        distortions.append(tf)"
   ]
  },
  {
   "cell_type": "code",
   "execution_count": 25,
   "id": "fa924ca5-b9a1-40de-bef0-7e57360a98df",
   "metadata": {},
   "outputs": [
    {
     "data": {
      "image/png": "[encoded data removed]",
      "text/plain": [
       "<Figure size 1152x576 with 1 Axes>"
      ]
     },
     "metadata": {
      "needs_background": "light"
     },
     "output_type": "display_data"
    }
   ],
   "source": [
    "# Let's visualized the elbow method\n",
    "plt.figure(figsize=(16,8))\n",
    "plt.plot(K, distortions, 'bx-')\n",
    "plt.xlabel('k')\n",
    "plt.ylabel('Distortion')\n",
    "plt.title('The Elbow Method showing the optimal k')\n",
    "plt.show()"
   ]
  },
  {
   "cell_type": "code",
   "execution_count": 93,
   "id": "cedb3fa8-b4a4-4f11-8a2e-460284f8fc7b",
   "metadata": {},
   "outputs": [],
   "source": [
    "# After choosing best K we train the model and save it.\n",
    "true_k = 17\n",
    "model = KMeans(n_clusters=true_k, init='k-means++', max_iter=100, n_init=1)\n",
    "model.fit(tfidf_matrix)\n",
    "\n",
    "# Saving model\n",
    "with open(\"kmeans_model.pkl\", \"wb\") as f:\n",
    "    pickle.dump(model, f)"
   ]
  },
  {
   "cell_type": "code",
   "execution_count": 94,
   "id": "8d6db767-ddfc-4fad-b281-de6fabfd2122",
   "metadata": {},
   "outputs": [],
   "source": [
    "# Get centroids and features\n",
    "order_centroids = model.cluster_centers_.argsort()[:, ::-1]\n",
    "terms = tf.get_feature_names()"
   ]
  },
  {
   "cell_type": "code",
   "execution_count": 95,
   "id": "eafad90c-eb90-478e-aa5e-eb3e7a8cff7d",
   "metadata": {},
   "outputs": [
    {
     "name": "stdout",
     "output_type": "stream",
     "text": [
      "Cluster: 0\n",
      "solar cells\n",
      "fundamental understanding\n",
      "electron microscopy\n",
      "undergraduate students\n",
      "broader impacts\n",
      "Cluster: 1\n",
      "machine learning\n",
      "deep learning\n",
      "open source\n",
      "neural networks\n",
      "large scale\n",
      "Cluster: 2\n",
      "sbir phase\n",
      "small business innovation\n",
      "business innovation\n",
      "business innovation research\n",
      "innovation research\n",
      "Cluster: 3\n",
      "dark matter\n",
      "standard model\n",
      "new physics\n",
      "particle physics\n",
      "dark energy\n",
      "Cluster: 4\n",
      "environmental change\n",
      "sea ice\n",
      "rapidly changing\n",
      "production knowledge\n",
      "changing arctic\n",
      "Cluster: 5\n",
      "broader impacts\n",
      "intellectual merit\n",
      "merit broader\n",
      "intellectual merit broader\n",
      "merit broader impacts\n",
      "Cluster: 6\n",
      "low income\n",
      "financial need\n",
      "demonstrated financial\n",
      "demonstrated financial need\n",
      "low income students\n",
      "Cluster: 7\n",
      "ice sheet\n",
      "sea level\n",
      "antarctic ice\n",
      "belmont forum\n",
      "climate change\n",
      "Cluster: 8\n",
      "education grfp\n",
      "program grfp\n",
      "fellowship program grfp\n",
      "nsf graduate\n",
      "stem stem education\n",
      "Cluster: 9\n",
      "high school\n",
      "school students\n",
      "high school students\n",
      "broader impacts\n",
      "intellectual merit\n",
      "Cluster: 10\n",
      "program supports\n",
      "stem education\n",
      "high need\n",
      "stem teachers\n",
      "student learning\n",
      "Cluster: 11\n",
      "stem learning\n",
      "informal stem\n",
      "learning informal\n",
      "informal environments\n",
      "learning informal environments\n",
      "Cluster: 12\n",
      "covid 19\n",
      "sars cov\n",
      "19 pandemic\n",
      "covid 19 pandemic\n",
      "public health\n",
      "Cluster: 13\n",
      "mass spectrometer\n",
      "broader impacts\n",
      "intellectual merit\n",
      "intellectual merit broader\n",
      "merit broader\n",
      "Cluster: 14\n",
      "pi meeting\n",
      "frontera project\n",
      "frontera research users\n",
      "technical coordination\n",
      "frontera research\n",
      "Cluster: 15\n",
      "black holes\n",
      "gravitational wave\n",
      "black hole\n",
      "gravitational waves\n",
      "neutron stars\n",
      "Cluster: 16\n",
      "state art\n",
      "project aims\n",
      "broader impacts\n",
      "intellectual merit\n",
      "reflects nsf statutory\n"
     ]
    }
   ],
   "source": [
    "# Show clusters and topics\n",
    "for i in range(true_k):\n",
    "    print(f'Cluster: {i}')\n",
    "    for ind in order_centroids[i, :5]:\n",
    "        print(terms[ind])"
   ]
  },
  {
   "cell_type": "code",
   "execution_count": 69,
   "id": "af2e1707-2c50-464a-ba15-c4f950110a9d",
   "metadata": {},
   "outputs": [],
   "source": [
    "#predict the labels of clusters.\n",
    "label = model.fit_predict(tfidf_matrix)\n",
    "#Getting unique labels\n",
    " \n",
    "u_labels = np.unique(label)"
   ]
  },
  {
   "cell_type": "markdown",
   "id": "c557f34c-6b84-43c8-9cbd-9261455e659d",
   "metadata": {},
   "source": [
    "## New Predictions"
   ]
  },
  {
   "cell_type": "markdown",
   "id": "aa64b8cd-1159-4db9-a32e-376fb45a7b37",
   "metadata": {},
   "source": [
    "Now that we have a model we can design a function that assigns a new abstract to a cluster and get the topic"
   ]
  },
  {
   "cell_type": "code",
   "execution_count": 86,
   "id": "dbf3f3d7-c4e1-408a-a7e8-4c7e4d2cc8f2",
   "metadata": {},
   "outputs": [],
   "source": [
    "# Load model from pickle\n",
    "with open(\"kmeans_model.pkl\", \"rb\") as f:\n",
    "    model = pickle.load(f)\n",
    "    \n",
    "# Load vectorizer\n",
    "with open(\"vectorizer.pkl\", \"rb\") as f:\n",
    "    tf = pickle.load(f)"
   ]
  },
  {
   "cell_type": "code",
   "execution_count": 96,
   "id": "abade933-62bc-4469-8272-f2604c228145",
   "metadata": {},
   "outputs": [],
   "source": [
    "def predict_cluster(text:str)->dict:\n",
    "    \"\"\"\n",
    "    # Function for predicting the cluster and topic that correspond to an abstract\n",
    "    parameters:\n",
    "    text: string format abstract to predict cluster\n",
    "    \n",
    "    return:\n",
    "    cluster: dictionary which includes the if of the cluster it belongs and the topic\n",
    "    \"\"\"\n",
    "    \n",
    "    # Clean abstract\n",
    "    no_html_tags = remove_html(text)\n",
    "    no_stop_words = remove_stop_words(no_html_tags)\n",
    "    no_punctuation = remove_punctuation(no_stop_words)\n",
    "    print(no_punctuation)\n",
    "    \n",
    "    # Make new prediction with kmeans model\n",
    "    X = tf.transform([no_punctuation])\n",
    "    predicted = model.predict(X)\n",
    "    print(predicted)\n",
    "    \n",
    "    # Get centroids which cluster belongs\n",
    "    order_centroids = model.cluster_centers_.argsort()[:, ::-1]\n",
    "    terms = tf.get_feature_names()\n",
    "    \n",
    "    # Show clusters and topics\n",
    "    for i in range(17):\n",
    "        print(f'Cluster: {i}')\n",
    "        for ind in order_centroids[i, :5]:\n",
    "            print(terms[ind])\n",
    "    \n",
    "    return predicted\n",
    "    "
   ]
  },
  {
   "cell_type": "markdown",
   "id": "941c44a8-46f8-4e16-9fcf-ff19e71d16a5",
   "metadata": {},
   "source": [
    "Let's test the model with this paper 'Erdaw Y, Tachbele E. Machine Learning Model Applied on Chest X-Ray Images Enables Automatic Detection of COVID-19 Cases with High Accuracy. Int J Gen Med. 2021 Aug 28;14:4923-4931. doi: 10.2147/IJGM.S325609. PMID: 34483682; PMCID: PMC8409602.'"
   ]
  },
  {
   "cell_type": "code",
   "execution_count": 97,
   "id": "81ebb282-9962-4cdc-9f36-0ff028a87be4",
   "metadata": {},
   "outputs": [],
   "source": [
    "# This is the abstract\n",
    "abstract = \"This research was designed to investigate the application of artificial intelligence (AI) in the rapid and accurate diagnosis of coronavirus disease 2019 (COVID-19) using digital chest X-ray images, and to develop a robust computer-aided application for the automatic classification of COVID-19 pneumonia from other pneumonia and normal images.\" "
   ]
  },
  {
   "cell_type": "code",
   "execution_count": 98,
   "id": "4a054255-e12e-477b-99c6-aa03de243e2e",
   "metadata": {},
   "outputs": [
    {
     "name": "stdout",
     "output_type": "stream",
     "text": [
      "This research designed investigate application artificial intelligence AI rapid accurate diagnosis coronavirus disease 2019 COVID 19 using digital chest X ray images develop robust computer aided application automatic classification COVID 19 pneumonia pneumonia normal images\n",
      "[12]\n",
      "Cluster: 0\n",
      "solar cells\n",
      "fundamental understanding\n",
      "electron microscopy\n",
      "undergraduate students\n",
      "broader impacts\n",
      "Cluster: 1\n",
      "machine learning\n",
      "deep learning\n",
      "open source\n",
      "neural networks\n",
      "large scale\n",
      "Cluster: 2\n",
      "sbir phase\n",
      "small business innovation\n",
      "business innovation\n",
      "business innovation research\n",
      "innovation research\n",
      "Cluster: 3\n",
      "dark matter\n",
      "standard model\n",
      "new physics\n",
      "particle physics\n",
      "dark energy\n",
      "Cluster: 4\n",
      "environmental change\n",
      "sea ice\n",
      "rapidly changing\n",
      "production knowledge\n",
      "changing arctic\n",
      "Cluster: 5\n",
      "broader impacts\n",
      "intellectual merit\n",
      "merit broader\n",
      "intellectual merit broader\n",
      "merit broader impacts\n",
      "Cluster: 6\n",
      "low income\n",
      "financial need\n",
      "demonstrated financial\n",
      "demonstrated financial need\n",
      "low income students\n",
      "Cluster: 7\n",
      "ice sheet\n",
      "sea level\n",
      "antarctic ice\n",
      "belmont forum\n",
      "climate change\n",
      "Cluster: 8\n",
      "education grfp\n",
      "program grfp\n",
      "fellowship program grfp\n",
      "nsf graduate\n",
      "stem stem education\n",
      "Cluster: 9\n",
      "high school\n",
      "school students\n",
      "high school students\n",
      "broader impacts\n",
      "intellectual merit\n",
      "Cluster: 10\n",
      "program supports\n",
      "stem education\n",
      "high need\n",
      "stem teachers\n",
      "student learning\n",
      "Cluster: 11\n",
      "stem learning\n",
      "informal stem\n",
      "learning informal\n",
      "informal environments\n",
      "learning informal environments\n",
      "Cluster: 12\n",
      "covid 19\n",
      "sars cov\n",
      "19 pandemic\n",
      "covid 19 pandemic\n",
      "public health\n",
      "Cluster: 13\n",
      "mass spectrometer\n",
      "broader impacts\n",
      "intellectual merit\n",
      "intellectual merit broader\n",
      "merit broader\n",
      "Cluster: 14\n",
      "pi meeting\n",
      "frontera project\n",
      "frontera research users\n",
      "technical coordination\n",
      "frontera research\n",
      "Cluster: 15\n",
      "black holes\n",
      "gravitational wave\n",
      "black hole\n",
      "gravitational waves\n",
      "neutron stars\n",
      "Cluster: 16\n",
      "state art\n",
      "project aims\n",
      "broader impacts\n",
      "intellectual merit\n",
      "reflects nsf statutory\n",
      "[12]\n"
     ]
    }
   ],
   "source": [
    "# Test model\n",
    "predicted = predict_cluster(abstract)\n",
    "print(predicted)"
   ]
  },
  {
   "cell_type": "code",
   "execution_count": null,
   "id": "9471900a-f7c5-4da5-8015-66b6841e4b22",
   "metadata": {},
   "outputs": [],
   "source": []
  }
 ],
 "metadata": {
  "kernelspec": {
   "display_name": "gpu-test",
   "language": "python",
   "name": "gpu-test"
  },
  "language_info": {
   "codemirror_mode": {
    "name": "ipython",
    "version": 3
   },
   "file_extension": ".py",
   "mimetype": "text/x-python",
   "name": "python",
   "nbconvert_exporter": "python",
   "pygments_lexer": "ipython3",
   "version": "3.9.7"
  }
 },
 "nbformat": 4,
 "nbformat_minor": 5
}
